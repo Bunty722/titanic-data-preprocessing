{
 "cells": [
  {
   "cell_type": "markdown",
   "id": "58525b09-1f7e-4b43-84fa-9b599c83d576",
   "metadata": {},
   "source": [
    "***Goal:***\n",
    "*load the titanic dataset and inspect its structure, missing values, and data types.*"
   ]
  },
  {
   "cell_type": "code",
   "execution_count": 1,
   "id": "eda25c00-1048-4ee9-ac69-49b24f1a3639",
   "metadata": {},
   "outputs": [
    {
     "name": "stdout",
     "output_type": "stream",
     "text": [
      "   PassengerId  Survived  Pclass  \\\n",
      "0            1         0       3   \n",
      "1            2         1       1   \n",
      "2            3         1       3   \n",
      "3            4         1       1   \n",
      "4            5         0       3   \n",
      "\n",
      "                                                Name     Sex   Age  SibSp  \\\n",
      "0                            Braund, Mr. Owen Harris    male  22.0      1   \n",
      "1  Cumings, Mrs. John Bradley (Florence Briggs Th...  female  38.0      1   \n",
      "2                             Heikkinen, Miss. Laina  female  26.0      0   \n",
      "3       Futrelle, Mrs. Jacques Heath (Lily May Peel)  female  35.0      1   \n",
      "4                           Allen, Mr. William Henry    male  35.0      0   \n",
      "\n",
      "   Parch            Ticket     Fare Cabin Embarked  \n",
      "0      0         A/5 21171   7.2500   NaN        S  \n",
      "1      0          PC 17599  71.2833   C85        C  \n",
      "2      0  STON/O2. 3101282   7.9250   NaN        S  \n",
      "3      0            113803  53.1000  C123        S  \n",
      "4      0            373450   8.0500   NaN        S  \n"
     ]
    }
   ],
   "source": [
    "import numpy as np\n",
    "import pandas as pd\n",
    "import seaborn as sas\n",
    "\n",
    "titanic = pd.read_csv('Titanic-Dataset.csv')\n",
    "print(titanic.head())"
   ]
  },
  {
   "cell_type": "code",
   "execution_count": 2,
   "id": "d250f836-7878-4781-ad9f-3de0178dd935",
   "metadata": {},
   "outputs": [
    {
     "name": "stdout",
     "output_type": "stream",
     "text": [
      "=== Data types ===\n",
      "PassengerId      int64\n",
      "Survived         int64\n",
      "Pclass           int64\n",
      "Name            object\n",
      "Sex             object\n",
      "Age            float64\n",
      "SibSp            int64\n",
      "Parch            int64\n",
      "Ticket          object\n",
      "Fare           float64\n",
      "Cabin           object\n",
      "Embarked        object\n",
      "dtype: object\n"
     ]
    }
   ],
   "source": [
    "print(\"=== Data types ===\")\n",
    "print(titanic.dtypes)"
   ]
  },
  {
   "cell_type": "code",
   "execution_count": 3,
   "id": "dfa44394-1c8d-4a06-ae71-c8426de117c5",
   "metadata": {},
   "outputs": [
    {
     "name": "stdout",
     "output_type": "stream",
     "text": [
      "PassengerId      0\n",
      "Survived         0\n",
      "Pclass           0\n",
      "Name             0\n",
      "Sex              0\n",
      "Age            177\n",
      "SibSp            0\n",
      "Parch            0\n",
      "Ticket           0\n",
      "Fare             0\n",
      "Cabin          687\n",
      "Embarked         2\n",
      "dtype: int64\n"
     ]
    }
   ],
   "source": [
    "print(titanic.isnull().sum())#this wil print total numbe rof null values in each coloumn in the dataset"
   ]
  },
  {
   "cell_type": "markdown",
   "id": "4521ad75-eb26-429d-b57a-902db5887a72",
   "metadata": {},
   "source": [
    "**Handle Missing Values**"
   ]
  },
  {
   "cell_type": "code",
   "execution_count": 4,
   "id": "fe7d6a10-0653-4841-b14d-af69cc1cc9b6",
   "metadata": {},
   "outputs": [
    {
     "name": "stdout",
     "output_type": "stream",
     "text": [
      "['PassengerId', 'Survived', 'Pclass', 'Name', 'Sex', 'Age', 'SibSp', 'Parch', 'Ticket', 'Fare', 'Cabin', 'Embarked']\n"
     ]
    }
   ],
   "source": [
    "print(titanic.columns.tolist())"
   ]
  },
  {
   "cell_type": "code",
   "execution_count": 5,
   "id": "eca39bf6-7ec6-4b63-aaee-17b17faf7105",
   "metadata": {},
   "outputs": [
    {
     "name": "stderr",
     "output_type": "stream",
     "text": [
      "C:\\Users\\kalya\\AppData\\Local\\Temp\\ipykernel_11800\\2184073557.py:1: FutureWarning: A value is trying to be set on a copy of a DataFrame or Series through chained assignment using an inplace method.\n",
      "The behavior will change in pandas 3.0. This inplace method will never work because the intermediate object on which we are setting values always behaves as a copy.\n",
      "\n",
      "For example, when doing 'df[col].method(value, inplace=True)', try using 'df.method({col: value}, inplace=True)' or df[col] = df[col].method(value) instead, to perform the operation inplace on the original object.\n",
      "\n",
      "\n",
      "  titanic['Age'].fillna(titanic['Age'].median(), inplace=True)\n"
     ]
    }
   ],
   "source": [
    "titanic['Age'].fillna(titanic['Age'].median(), inplace=True)"
   ]
  },
  {
   "cell_type": "code",
   "execution_count": 6,
   "id": "75931ad0-112c-4365-a09e-a9dcf929669c",
   "metadata": {},
   "outputs": [
    {
     "name": "stderr",
     "output_type": "stream",
     "text": [
      "C:\\Users\\kalya\\AppData\\Local\\Temp\\ipykernel_11800\\1059360808.py:1: FutureWarning: A value is trying to be set on a copy of a DataFrame or Series through chained assignment using an inplace method.\n",
      "The behavior will change in pandas 3.0. This inplace method will never work because the intermediate object on which we are setting values always behaves as a copy.\n",
      "\n",
      "For example, when doing 'df[col].method(value, inplace=True)', try using 'df.method({col: value}, inplace=True)' or df[col] = df[col].method(value) instead, to perform the operation inplace on the original object.\n",
      "\n",
      "\n",
      "  titanic['Embarked'].fillna(titanic['Embarked'].mode()[0],inplace = True)\n"
     ]
    }
   ],
   "source": [
    "titanic['Embarked'].fillna(titanic['Embarked'].mode()[0],inplace = True)"
   ]
  },
  {
   "cell_type": "code",
   "execution_count": 7,
   "id": "59a199d0-4959-4cbd-85c2-194198a0166b",
   "metadata": {},
   "outputs": [
    {
     "name": "stdout",
     "output_type": "stream",
     "text": [
      "'Cabin' column dropped (as it is has too many missing values).\n",
      "\n",
      "=== Updated Columns ===\n",
      "['PassengerId', 'Survived', 'Pclass', 'Name', 'Sex', 'Age', 'SibSp', 'Parch', 'Ticket', 'Fare', 'Embarked']\n"
     ]
    }
   ],
   "source": [
    "if 'Cabin' in titanic.columns:\n",
    "    titanic.drop('Cabin', axis=1, inplace=True)\n",
    "    print(\"'Cabin' column dropped (as it is has too many missing values).\")\n",
    "else:\n",
    "    print(\" 'Cabin' column already missing. Proceeding...\")\n",
    "\n",
    "print(\"\\n=== Updated Columns ===\")\n",
    "print(titanic.columns.tolist())"
   ]
  },
  {
   "cell_type": "code",
   "execution_count": 8,
   "id": "37ef5439-b1b6-4572-a3ea-3914c64140fe",
   "metadata": {},
   "outputs": [
    {
     "name": "stdout",
     "output_type": "stream",
     "text": [
      "PassengerId    0\n",
      "Survived       0\n",
      "Pclass         0\n",
      "Name           0\n",
      "Sex            0\n",
      "Age            0\n",
      "SibSp          0\n",
      "Parch          0\n",
      "Ticket         0\n",
      "Fare           0\n",
      "Embarked       0\n",
      "dtype: int64\n"
     ]
    }
   ],
   "source": [
    "print(titanic.isnull().sum())"
   ]
  },
  {
   "cell_type": "markdown",
   "id": "e2f317ad-d4f1-4f1b-8e3d-d8a68fd6b1c9",
   "metadata": {},
   "source": [
    "**Converting categeorical features in to Numericals**"
   ]
  },
  {
   "cell_type": "code",
   "execution_count": 9,
   "id": "e39923c0-b3f7-4d31-ad2f-4e39a4450260",
   "metadata": {},
   "outputs": [],
   "source": [
    "from sklearn.preprocessing import LabelEncoder"
   ]
  },
  {
   "cell_type": "code",
   "execution_count": 10,
   "id": "71c48496-61d3-46b5-9b1e-e2d2e2e1ede6",
   "metadata": {},
   "outputs": [
    {
     "name": "stdout",
     "output_type": "stream",
     "text": [
      "[1 0]\n"
     ]
    }
   ],
   "source": [
    "le =LabelEncoder()\n",
    "titanic['Sex'] =le.fit_transform(titanic['Sex'])\n",
    "print(titanic['Sex'].unique())"
   ]
  },
  {
   "cell_type": "markdown",
   "id": "524e15b9-f948-4ac8-8c37-a748ed0c0161",
   "metadata": {},
   "source": [
    "**One-hot encoding for \"Embark\" coloumn (Multy-Categorical)**"
   ]
  },
  {
   "cell_type": "code",
   "execution_count": 11,
   "id": "7b06695f-f37c-441b-a70a-38a929bed768",
   "metadata": {},
   "outputs": [],
   "source": [
    "embarked_dummies = pd.get_dummies(titanic['Embarked'], prefix='Embarked')\n",
    "titanic = pd.concat([titanic, embarked_dummies], axis=1)\n",
    "titanic.drop('Embarked', axis=1, inplace=True)"
   ]
  },
  {
   "cell_type": "code",
   "execution_count": 12,
   "id": "b2edefee-690a-46a0-8832-3a76a05d4b73",
   "metadata": {},
   "outputs": [
    {
     "name": "stdout",
     "output_type": "stream",
     "text": [
      "['PassengerId', 'Survived', 'Pclass', 'Name', 'Sex', 'Age', 'SibSp', 'Parch', 'Ticket', 'Fare', 'Embarked_C', 'Embarked_Q', 'Embarked_S']\n"
     ]
    }
   ],
   "source": [
    "print(titanic.columns.tolist())"
   ]
  },
  {
   "cell_type": "markdown",
   "id": "69025965-8e9a-474a-9f83-64f8703d2c88",
   "metadata": {},
   "source": [
    "**Feature Scaling (Normalization/Standardization)**"
   ]
  },
  {
   "cell_type": "code",
   "execution_count": 15,
   "id": "a21c2d7d-8ff4-4a64-9b1e-671bd1c32d15",
   "metadata": {},
   "outputs": [],
   "source": [
    "from sklearn.preprocessing import StandardScaler"
   ]
  },
  {
   "cell_type": "code",
   "execution_count": 18,
   "id": "02a1699c-73e5-415d-902e-934197616cb7",
   "metadata": {},
   "outputs": [
    {
     "name": "stdout",
     "output_type": "stream",
     "text": [
      "          Age    Fare   SibSp   Parch\n",
      "count  891.00  891.00  891.00  891.00\n",
      "mean    -0.00    0.00    0.00    0.00\n",
      "std      1.00    1.00    1.00    1.00\n",
      "min     -2.22   -0.65   -0.47   -0.47\n",
      "25%     -0.57   -0.49   -0.47   -0.47\n",
      "50%     -0.10   -0.36   -0.47   -0.47\n",
      "75%      0.43   -0.02    0.43   -0.47\n",
      "max      3.89    9.67    6.78    6.97\n"
     ]
    }
   ],
   "source": [
    "numerical_cols =['Age','Fare','SibSp','Parch']\n",
    "scaler = StandardScaler() #Transforms data to have mean=0 and std=1\n",
    "\n",
    "titanic[numerical_cols] = scaler.fit_transform(titanic[numerical_cols])\n",
    "print(titanic[numerical_cols].describe().round(2))\n"
   ]
  },
  {
   "cell_type": "markdown",
   "id": "6a4ce315-e068-450b-b1b0-3e2f0a1df587",
   "metadata": {},
   "source": [
    "**Outlier Handling (Optional**"
   ]
  },
  {
   "cell_type": "code",
   "execution_count": 23,
   "id": "4ca071ee-4bcf-4c4d-9194-bcf844d4e732",
   "metadata": {},
   "outputs": [
    {
     "data": {
      "text/plain": [
       "<function matplotlib.pyplot.show(close=None, block=None)>"
      ]
     },
     "execution_count": 23,
     "metadata": {},
     "output_type": "execute_result"
    },
    {
     "data": {
      "image/png": "[encoded data removed]",
      "text/plain": [
       "<Figure size 1000x400 with 1 Axes>"
      ]
     },
     "metadata": {},
     "output_type": "display_data"
    }
   ],
   "source": [
    "import matplotlib.pyplot as plt\n",
    "plt.figure(figsize=(10,4))\n",
    "titanic[numerical_cols].boxplot()\n",
    "plt.title(\"Outliers Check\")\n",
    "plt.show"
   ]
  },
  {
   "cell_type": "code",
   "execution_count": 24,
   "id": "0fdac776-6a05-4761-8122-93780de72481",
   "metadata": {},
   "outputs": [],
   "source": [
    "titanic.to_csv('titanic_preprocessed.csv',index =False)"
   ]
  },
  {
   "cell_type": "markdown",
   "id": "894187a7-9353-4703-bc65-5cfef31a9ae1",
   "metadata": {},
   "source": [
    "**Final Processed Data**"
   ]
  },
  {
   "cell_type": "code",
   "execution_count": 25,
   "id": "b49f4b0c-d35d-4dc5-ab31-28b6a8ae4326",
   "metadata": {},
   "outputs": [
    {
     "name": "stdout",
     "output_type": "stream",
     "text": [
      "   PassengerId  Survived  Pclass  \\\n",
      "0            1         0       3   \n",
      "1            2         1       1   \n",
      "2            3         1       3   \n",
      "3            4         1       1   \n",
      "4            5         0       3   \n",
      "\n",
      "                                                Name  Sex       Age     SibSp  \\\n",
      "0                            Braund, Mr. Owen Harris    1 -0.565736  0.432793   \n",
      "1  Cumings, Mrs. John Bradley (Florence Briggs Th...    0  0.663861  0.432793   \n",
      "2                             Heikkinen, Miss. Laina    0 -0.258337 -0.474545   \n",
      "3       Futrelle, Mrs. Jacques Heath (Lily May Peel)    0  0.433312  0.432793   \n",
      "4                           Allen, Mr. William Henry    1  0.433312 -0.474545   \n",
      "\n",
      "      Parch            Ticket      Fare  Embarked_C  Embarked_Q  Embarked_S  \n",
      "0 -0.473674         A/5 21171 -0.502445       False       False        True  \n",
      "1 -0.473674          PC 17599  0.786845        True       False       False  \n",
      "2 -0.473674  STON/O2. 3101282 -0.488854       False       False        True  \n",
      "3 -0.473674            113803  0.420730       False       False        True  \n",
      "4 -0.473674            373450 -0.486337       False       False        True  \n"
     ]
    }
   ],
   "source": [
    "print(titanic.head())"
   ]
  }
 ],
 "metadata": {
  "kernelspec": {
   "display_name": "Python 3 (ipykernel)",
   "language": "python",
   "name": "python3"
  },
  "language_info": {
   "codemirror_mode": {
    "name": "ipython",
    "version": 3
   },
   "file_extension": ".py",
   "mimetype": "text/x-python",
   "name": "python",
   "nbconvert_exporter": "python",
   "pygments_lexer": "ipython3",
   "version": "3.13.5"
  }
 },
 "nbformat": 4,
 "nbformat_minor": 5
}
